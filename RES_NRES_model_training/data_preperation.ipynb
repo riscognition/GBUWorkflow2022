{
 "cells": [
  {
   "cell_type": "code",
   "execution_count": 7,
   "id": "40c313fb-79b4-4d39-86fa-970409db7b7a",
   "metadata": {},
   "outputs": [],
   "source": [
    "import numpy as np\n",
    "import rasterio\n",
    "import pandas as pd"
   ]
  },
  {
   "cell_type": "code",
   "execution_count": 8,
   "id": "f6ac137c-bc42-4928-835e-8af163d3c5fb",
   "metadata": {},
   "outputs": [],
   "source": [
    "aoi_names = [\"AOI01\", \"AOI02\", \"AOI03\", \"AOI04\", \"AOI05\", \"AOI06\", \"AOI07\", \n",
    "             \"AOI08\", \"AOI08\", \"AOI10\", \"AOI11\", \"AOI12\", \"AOI13\", \"AOI14\", \n",
    "             \"AOI15\", \"AOI16\", \"AOI17\", \"AOI18\"]"
   ]
  },
  {
   "cell_type": "code",
   "execution_count": 9,
   "id": "8ce3dd08-3239-45ce-ae2e-326b522c3d30",
   "metadata": {},
   "outputs": [
    {
     "name": "stdout",
     "output_type": "stream",
     "text": [
      "AOI01\n",
      "AOI02\n",
      "AOI03\n",
      "AOI04\n",
      "AOI05\n",
      "AOI06\n",
      "AOI07\n",
      "AOI08\n",
      "AOI08\n",
      "AOI10\n",
      "AOI11\n",
      "AOI12\n",
      "AOI13\n",
      "AOI14\n",
      "AOI15\n",
      "AOI16\n",
      "AOI17\n",
      "AOI18\n"
     ]
    }
   ],
   "source": [
    "df_ls = []\n",
    "\n",
    "for aoi_name in aoi_names:\n",
    "    print(aoi_name)\n",
    "    \n",
    "    path_to_bufrac = r\"C:\\Users\\david\\Desktop\\GHSL_Deliverables\\Intermediate_products\\RES_NRES\\Training_BUFRAC\\{}_BUFRAC.tif\".format(aoi_name)\n",
    "    path_to_residential = r\"C:\\Users\\david\\Desktop\\GHSL_Deliverables\\Intermediate_products\\RES_NRES\\Training_OSM_RES_NRES_rasterized\\{}_RES_NRES_OSM.tif\".format(aoi_name)\n",
    "    path_to_mosaic = r\"C:\\Users\\david\\Desktop\\GHSL_Deliverables\\Intermediate_products\\RES_NRES\\Training_S2_data\\{}_S2_L1C.tif\".format(aoi_name)\n",
    "\n",
    "    # load data and metadata\n",
    "    with rasterio.open(path_to_bufrac) as src:\n",
    "        bufrac = src.read(1)\n",
    "        bufrac_meta = src.profile\n",
    "\n",
    "    with rasterio.open(path_to_residential) as src:\n",
    "        residential = src.read(1)\n",
    "        residential_meta = src.profile\n",
    "\n",
    "    with rasterio.open(path_to_mosaic) as src:\n",
    "        red_band = src.read(1)\n",
    "        green_band = src.read(2)\n",
    "        blue_band = src.read(3)\n",
    "        nir_band = src.read(4)\n",
    "        mosaic_meta = src.profile\n",
    "        \n",
    "    mask = np.where((residential.ravel() != -1) & (residential.ravel() != 0))\n",
    "    \n",
    "    bufrac_nres = bufrac.ravel()[mask]\n",
    "    green_nres = green_band.ravel()[mask]\n",
    "    red_nres = red_band.ravel()[mask]\n",
    "    blue_nres = blue_band.ravel()[mask]\n",
    "    nir_nres = nir_band.ravel()[mask]\n",
    "    residential_nres = residential.ravel()[mask] \n",
    "    \n",
    "    df = pd.DataFrame()\n",
    "    df['bufrac']=pd.Series(bufrac_nres)\n",
    "    df['red']=pd.Series(red_nres)\n",
    "    df['blue']=pd.Series(blue_nres)\n",
    "    df['green']=pd.Series(green_nres)\n",
    "    df['nir']=pd.Series(nir_nres)\n",
    "    df['residential']=pd.Series(residential_nres)\n",
    "    \n",
    "    df_ls.append(df)\n"
   ]
  },
  {
   "cell_type": "code",
   "execution_count": 10,
   "id": "73c2e465-27e0-4b76-a832-9646f1949809",
   "metadata": {},
   "outputs": [],
   "source": [
    "training_sample = pd.concat(df_ls).reset_index(drop=True)"
   ]
  },
  {
   "cell_type": "code",
   "execution_count": 11,
   "id": "7b40920b-8031-449a-b59c-22bc4560eb87",
   "metadata": {},
   "outputs": [],
   "source": [
    "training_sample.to_csv(\"training_data.csv\")"
   ]
  },
  {
   "cell_type": "code",
   "execution_count": null,
   "id": "2a8ae972-edb9-41fa-b30e-2f83077b92f1",
   "metadata": {},
   "outputs": [],
   "source": []
  }
 ],
 "metadata": {
  "kernelspec": {
   "display_name": "ghsl_base",
   "language": "python",
   "name": "ghsl_base"
  },
  "language_info": {
   "codemirror_mode": {
    "name": "ipython",
    "version": 3
   },
   "file_extension": ".py",
   "mimetype": "text/x-python",
   "name": "python",
   "nbconvert_exporter": "python",
   "pygments_lexer": "ipython3",
   "version": "3.10.5"
  }
 },
 "nbformat": 4,
 "nbformat_minor": 5
}
